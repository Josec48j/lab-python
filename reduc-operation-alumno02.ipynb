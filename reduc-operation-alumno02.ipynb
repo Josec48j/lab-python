{
 "cells": [
  {
   "cell_type": "markdown",
   "metadata": {},
   "source": [
    "### Reduction operation: the sum of the numbers in the range [0, a)"
   ]
  },
  {
   "cell_type": "code",
   "execution_count": null,
   "metadata": {},
   "outputs": [],
   "source": []
  },
  {
   "cell_type": "code",
   "execution_count": null,
   "metadata": {},
   "outputs": [],
   "source": []
  },
  {
   "cell_type": "markdown",
   "metadata": {},
   "source": [
    "En la primera celda de código de este notebook verás que tienes implementada en python dicha operación. Si ejecutas dicha celda, verás que el programa hace la operación de reducción para un valor de 10 ∗∗6, midiéndose el tiempo de 2 formas (con la librería time y con la función mágica %timeit) obteniendo lógicamente el mismo resultado, y se muestra el valor de dicha reducción. Evidentemente, este código está poco optimizado (tarda bastante tiempo), por lo que vamos a mejorarlo."
   ]
  },
  {
   "cell_type": "code",
   "execution_count": 2,
   "metadata": {},
   "outputs": [
    {
     "name": "stdout",
     "output_type": "stream",
     "text": [
      "Time taken by reduction operation: 0.29305291175842285 seconds\n",
      "253 ms ± 2.07 ms per loop (mean ± std. dev. of 2 runs, 1 loop each)\n",
      "\n",
      " \t Computing the sum of numbers in the range [0, value): 499999500000\n",
      "\n"
     ]
    }
   ],
   "source": [
    "import time\n",
    "\n",
    "def reduc_operation(a):\n",
    "    \"\"\"Compute the sum of the numbers in the range [0, a).\"\"\"\n",
    "    x = 0\n",
    "    for i in range(a):\n",
    "        x += i\n",
    "    return x\n",
    "\n",
    "# Secuencial\n",
    "\n",
    "value = 1000000\n",
    "\n",
    "initialTime = time.time()\n",
    "suma = reduc_operation(value)\n",
    "finalTime = time.time()\n",
    "\n",
    "print(\"Time taken by reduction operation:\", (finalTime - initialTime), \"seconds\")\n",
    "\n",
    "# Utilizando las operaciones mágicas de ipython\n",
    "%timeit -r 2 reduc_operation(value)\n",
    "\n",
    "print(f\"\\n \\t Computing the sum of numbers in the range [0, value): {suma}\\n\")"
   ]
  },
  {
   "cell_type": "markdown",
   "metadata": {},
   "source": [
    "a) En la siguiente celda de código del notebook3 vamos a utilizar el tipo de datos de listas para realizar dicha operación de reducción. Para ello, crea una lista de Python con la función range que contenga 10^6 elementos. Una vez creada, calcula el tiempo que tardas en sumar todos los elementos de la lista de 2 formas diferentes: \n",
    "    a) Usando un bucle for similar al código ya mostrado en la celda anterior para ir sumando al resultado total elemento a elemento de la lista, y \n",
    "    b) usando la función sum que tienen las listas. Como verás, hay una diferencia importante."
   ]
  },
  {
   "cell_type": "code",
   "execution_count": 3,
   "metadata": {},
   "outputs": [
    {
     "name": "stdout",
     "output_type": "stream",
     "text": [
      "Time taken by reduction operation using for loop: 0.22207236289978027 seconds\n",
      "Time taken by reduction operation using sum(): 0.031549930572509766 seconds\n",
      "\n",
      "\t Suma calculada usando el bucle for: 499999500000\n",
      "\n",
      "\t Suma calculada usando sum(): 499999500000\n"
     ]
    }
   ],
   "source": [
    "import time\n",
    "\n",
    "# Crear una lista con 1 millón de elementos\n",
    "value = 1000000\n",
    "my_list = list(range(value))  # Creamos la lista con los elementos de 0 a 999999\n",
    "\n",
    "# Función para calcular la suma usando un bucle for\n",
    "def reduc_operation_for(lst):\n",
    "    \"\"\"Compute the sum of the numbers in the list using a for loop.\"\"\"\n",
    "    x = 0\n",
    "    for i in lst:\n",
    "        x += i\n",
    "    return x\n",
    "\n",
    "# a) Medir el tiempo usando el bucle for\n",
    "initialTime_for = time.time()\n",
    "suma_for = reduc_operation_for(my_list)\n",
    "finalTime_for = time.time()\n",
    "print(\"Time taken by reduction operation using for loop:\", (finalTime_for - initialTime_for), \"seconds\")\n",
    "\n",
    "# b) Medir el tiempo usando la función sum()\n",
    "initialTime_sum = time.time()\n",
    "suma_sum = sum(my_list)\n",
    "finalTime_sum = time.time()\n",
    "print(\"Time taken by reduction operation using sum():\", (finalTime_sum - initialTime_sum), \"seconds\")\n",
    "\n",
    "# Mostrar los resultados de las sumas\n",
    "print(f\"\\n\\t Suma calculada usando el bucle for: {suma_for}\")\n",
    "print(f\"\\n\\t Suma calculada usando sum(): {suma_sum}\")"
   ]
  },
  {
   "cell_type": "markdown",
   "metadata": {},
   "source": [
    "b) En la segunda celda de código vamos a utilizar el tipo de datos array que nos proporciona el paquete numpy. En primer lugar, pasa la lista creada en la celda anterior a un array de numpy. Y al igual que antes, calcula el tiempo que tardas en sumar todos los elementos del array de 2 formas diferentes:\n",
    "    a) Usando un bucle for para ir sumando al resultado total elemento a elemento del array, y \n",
    "    b) usando la función sum que tiene el paquete numpy para los arrays. Como verás, hay una diferencia importante, y también con respecto al manejo de estos datos usando listas"
   ]
  },
  {
   "cell_type": "code",
   "execution_count": 4,
   "metadata": {},
   "outputs": [
    {
     "name": "stdout",
     "output_type": "stream",
     "text": [
      "Time taken by reduction operation using for loop (numpy array): 1.2965521812438965 seconds\n",
      "Time taken by reduction operation using np.sum(): 0.0036873817443847656 seconds\n",
      "\n",
      "\t Suma calculada usando el bucle for (numpy array): 499999500000\n",
      "\n",
      "\t Suma calculada usando np.sum(): 499999500000\n"
     ]
    }
   ],
   "source": [
    "import time\n",
    "import numpy as np\n",
    "\n",
    "# Crear una lista con 1 millón de elementos y convertirla en un array de numpy\n",
    "value = 1000000\n",
    "my_list = list(range(value))\n",
    "my_array = np.array(my_list)  # Convertir la lista en un array de numpy\n",
    "\n",
    "# Función para calcular la suma usando un bucle for\n",
    "def reduc_operation_for_numpy(arr):\n",
    "    \"\"\"Compute the sum of the numbers in the array using a for loop.\"\"\"\n",
    "    x = 0\n",
    "    for i in arr:\n",
    "        x += i\n",
    "    return x\n",
    "\n",
    "# a) Medir el tiempo usando el bucle for\n",
    "initialTime_for_numpy = time.time()\n",
    "suma_for_numpy = reduc_operation_for_numpy(my_array)\n",
    "finalTime_for_numpy = time.time()\n",
    "print(\"Time taken by reduction operation using for loop (numpy array):\", (finalTime_for_numpy - initialTime_for_numpy), \"seconds\")\n",
    "\n",
    "# b) Medir el tiempo usando la función sum() de numpy\n",
    "initialTime_sum_numpy = time.time()\n",
    "suma_sum_numpy = np.sum(my_array)\n",
    "finalTime_sum_numpy = time.time()\n",
    "print(\"Time taken by reduction operation using np.sum():\", (finalTime_sum_numpy - initialTime_sum_numpy), \"seconds\")\n",
    "\n",
    "# Mostrar los resultados de las sumas\n",
    "print(f\"\\n\\t Suma calculada usando el bucle for (numpy array): {suma_for_numpy}\")\n",
    "print(f\"\\n\\t Suma calculada usando np.sum(): {suma_sum_numpy}\")\n"
   ]
  },
  {
   "cell_type": "markdown",
   "metadata": {},
   "source": [
    " c) Crea una nueva celda de texto debajo de la última celda de código para explicar los resultados obtenidos por los 3 procedimientos (código original, lists y numpy)"
   ]
  },
  {
   "cell_type": "markdown",
   "metadata": {},
   "source": [
    "En este ejercicio, hemos comparado tres enfoques para realizar una operación de reducción (la suma de una secuencia de números) sobre un conjunto de datos de un millón de elementos, siendo los tres procedimientos usados i) el código original usando un bucle for con una operación de suma directa, ii) las listas de Python  y iii) los arrays de numpy.\n",
    "\n",
    "Los resultados muestran claramente que numpy es mucho más eficiente que las listas de Python para operaciones numéricas debido a sus optimizaciones y la capacidad de realizar operaciones en bloque sobre grandes volúmenes de datos. Por otro lado, el bucle for usado al principio es una opción sencilla pero menos eficiente, especialmente cuando vamos a trabajar con grandes cantidades de datos."
   ]
  },
  {
   "cell_type": "code",
   "execution_count": null,
   "metadata": {},
   "outputs": [],
   "source": []
  },
  {
   "cell_type": "markdown",
   "metadata": {},
   "source": [
    " a) Continuando con el notebook anterior, ahora vamos a usar también el paquete numba para acelerar el tiempo de ejecución. Para ello, en la siguiente celda de código copia la celda que usaste con el paquete numpy, y añade a cada función el decorador @njit para que ofrezca un tiempo de ejecución menor. Como verás, hay una diferencia importante, y también con respecto a los tiempos de las celdas anteriores."
   ]
  },
  {
   "cell_type": "code",
   "execution_count": 4,
   "metadata": {},
   "outputs": [
    {
     "name": "stdout",
     "output_type": "stream",
     "text": [
      "Time taken by @njit with for loop: 0.607896089553833 seconds\n",
      "Result with for loop: 499999500000\n",
      "Time taken by @njit with numpy sum: 0.4458801746368408 seconds\n",
      "Result with numpy sum: 499999500000\n"
     ]
    }
   ],
   "source": [
    "import numpy as np\n",
    "from numba import njit\n",
    "import time\n",
    "\n",
    "# Convertimos la lista en un array de numpy\n",
    "array = np.array(range(10**6))\n",
    "\n",
    "# a) Usar un bucle for con @njit\n",
    "@njit\n",
    "def sum_with_for(array):\n",
    "    total = 0\n",
    "    for i in array:\n",
    "        total += i\n",
    "    return total\n",
    "\n",
    "# b) Usar la función sum de Numpy con @njit\n",
    "@njit\n",
    "def sum_with_numpy(array):\n",
    "    return np.sum(array)\n",
    "\n",
    "# Medimos el tiempo para el bucle for\n",
    "initial_time = time.time()\n",
    "result_for = sum_with_for(array)\n",
    "final_time = time.time()\n",
    "\n",
    "print(\"Time taken by @njit with for loop:\", (final_time - initial_time), \"seconds\")\n",
    "print(f\"Result with for loop: {result_for}\")\n",
    "\n",
    "# Medimos el tiempo para np.sum\n",
    "initial_time = time.time()\n",
    "result_numpy = sum_with_numpy(array)\n",
    "final_time = time.time()\n",
    "\n",
    "print(\"Time taken by @njit with numpy sum:\", (final_time - initial_time), \"seconds\")\n",
    "print(f\"Result with numpy sum: {result_numpy}\")\n"
   ]
  },
  {
   "cell_type": "markdown",
   "metadata": {},
   "source": [
    " b) Crea una nueva celda de texto debajo para explicar los resultados obtenidos por el paquete numba."
   ]
  },
  {
   "cell_type": "markdown",
   "metadata": {},
   "source": [
    "El paquete Numba es una herramienta poderosa para acelerar cálculos numéricos en Python, especialmente cuando trabajamos con bucles o algoritmos más complejos. En este caso hemos usado la compilación Just-In-Time (JIT) para optimizar las funciones de Python, convirtiéndolas en código máquina antes de ejecutarlas. Esto mejora drásticamente los tiempos de ejecución, especialmente en operaciones numéricas y bucles iterativos.Sin embargo, su combinación con Numpy para operaciones vectorizadas, como np.sum, produce los mejores resultados en términos de rendimiento"
   ]
  },
  {
   "cell_type": "markdown",
   "metadata": {},
   "source": [
    " c) Finalmente, vamos a lanzar a ejecutar dicho notebook a otra cola de tu elección por medio del intérprete ipython. Para que podamos variar el número de elementos con mayor comodidad, haz una modificación en el notebook original que permita darle el valor del número de elementos (variable value) por la línea de comandos al lanzar a ejecutar el notebook con el gestor de colas sbatch. Para ello, debes copiar dicho notebook a tu directorio de trabajo de ibsen. Una vez hecho esto, crea el shell script que va a usar el comando sbatch para lanzar con SLURM a una de las colas a las que tienes acceso y medir el tiempo de ejecución en dicha cola. Llama a dicho fichero submit_Python_machine name-login.sh5 Lánzalo con el valor de 107 y 108 elementos."
   ]
  },
  {
   "cell_type": "code",
   "execution_count": 9,
   "metadata": {},
   "outputs": [
    {
     "name": "stdout",
     "output_type": "stream",
     "text": [
      "El argumento proporcionado no es un número válido. Usando valor por defecto.\n",
      "Número de elementos a procesar: 1000000\n",
      "Time taken by reduction operation: 0.2751960754394531 seconds\n",
      "\n",
      "\t Computing the sum of numbers in the range [0, value): 499999500000\n",
      "\n",
      "Time taken by reduction operation using for loop: 0.20537543296813965 seconds\n",
      "Time taken by reduction operation using sum(): 0.031155824661254883 seconds\n",
      "\n",
      "\t Suma calculada usando el bucle for: 499999500000\n",
      "\n",
      "\t Suma calculada usando sum(): 499999500000\n",
      "Time taken by reduction operation using for loop (numpy array): 1.4151637554168701 seconds\n",
      "Time taken by reduction operation using np.sum(): 0.0038902759552001953 seconds\n",
      "\n",
      "\t Suma calculada usando el bucle for (numpy array): 499999500000\n",
      "\n",
      "\t Suma calculada usando np.sum(): 499999500000\n",
      "Time taken by @njit with for loop: 0.6426987648010254 seconds\n",
      "Result with for loop: 499999500000\n",
      "Time taken by @njit with numpy sum: 0.4655914306640625 seconds\n",
      "Result with numpy sum: 499999500000\n"
     ]
    }
   ],
   "source": [
    "import sys\n",
    "import time\n",
    "import numpy as np\n",
    "from numba import njit\n",
    "\n",
    "# Leer valor desde la línea de comandos\n",
    "if len(sys.argv) > 1:\n",
    "    try:\n",
    "        value = int(sys.argv[1])  # Asignar el tamaño del array desde el primer argumento\n",
    "    except ValueError:\n",
    "        print(\"El argumento proporcionado no es un número válido. Usando valor por defecto.\")\n",
    "        value = 10**6\n",
    "else:\n",
    "    value = 10**6  # Valor por defecto si no se pasa argumento\n",
    "\n",
    "print(f\"Número de elementos a procesar: {value}\")\n",
    "\n",
    "# ---------------------------------------------\n",
    "# Operación de reducción secuencial\n",
    "# ---------------------------------------------\n",
    "def reduc_operation(a):\n",
    "    \"\"\"Compute the sum of the numbers in the range [0, a).\"\"\"\n",
    "    x = 0\n",
    "    for i in range(a):\n",
    "        x += i\n",
    "    return x\n",
    "\n",
    "# Secuencial\n",
    "initialTime = time.time()\n",
    "suma = reduc_operation(value)\n",
    "finalTime = time.time()\n",
    "\n",
    "print(\"Time taken by reduction operation:\", (finalTime - initialTime), \"seconds\")\n",
    "\n",
    "# Utilizando las operaciones mágicas de ipython (comentado para evitar errores al ejecutar fuera de un notebook)\n",
    "# %timeit -r 2 reduc_operation(value)\n",
    "\n",
    "print(f\"\\n\\t Computing the sum of numbers in the range [0, value): {suma}\\n\")\n",
    "\n",
    "# ---------------------------------------------\n",
    "# Operación de reducción con listas\n",
    "# ---------------------------------------------\n",
    "my_list = list(range(value))\n",
    "\n",
    "def reduc_operation_for(lst):\n",
    "    \"\"\"Compute the sum of the numbers in the list using a for loop.\"\"\"\n",
    "    x = 0\n",
    "    for i in lst:\n",
    "        x += i\n",
    "    return x\n",
    "\n",
    "# a) Medir el tiempo usando el bucle for\n",
    "initialTime_for = time.time()\n",
    "suma_for = reduc_operation_for(my_list)\n",
    "finalTime_for = time.time()\n",
    "print(\"Time taken by reduction operation using for loop:\", (finalTime_for - initialTime_for), \"seconds\")\n",
    "\n",
    "# b) Medir el tiempo usando la función sum()\n",
    "initialTime_sum = time.time()\n",
    "suma_sum = sum(my_list)\n",
    "finalTime_sum = time.time()\n",
    "print(\"Time taken by reduction operation using sum():\", (finalTime_sum - initialTime_sum), \"seconds\")\n",
    "\n",
    "print(f\"\\n\\t Suma calculada usando el bucle for: {suma_for}\")\n",
    "print(f\"\\n\\t Suma calculada usando sum(): {suma_sum}\")\n",
    "\n",
    "# ---------------------------------------------\n",
    "# Operación de reducción con numpy\n",
    "# ---------------------------------------------\n",
    "my_array = np.array(my_list)\n",
    "\n",
    "def reduc_operation_for_numpy(arr):\n",
    "    \"\"\"Compute the sum of the numbers in the array using a for loop.\"\"\"\n",
    "    x = 0\n",
    "    for i in arr:\n",
    "        x += i\n",
    "    return x\n",
    "\n",
    "# a) Medir el tiempo usando el bucle for\n",
    "initialTime_for_numpy = time.time()\n",
    "suma_for_numpy = reduc_operation_for_numpy(my_array)\n",
    "finalTime_for_numpy = time.time()\n",
    "print(\"Time taken by reduction operation using for loop (numpy array):\", (finalTime_for_numpy - initialTime_for_numpy), \"seconds\")\n",
    "\n",
    "# b) Medir el tiempo usando la función sum() de numpy\n",
    "initialTime_sum_numpy = time.time()\n",
    "suma_sum_numpy = np.sum(my_array)\n",
    "finalTime_sum_numpy = time.time()\n",
    "print(\"Time taken by reduction operation using np.sum():\", (finalTime_sum_numpy - initialTime_sum_numpy), \"seconds\")\n",
    "\n",
    "print(f\"\\n\\t Suma calculada usando el bucle for (numpy array): {suma_for_numpy}\")\n",
    "print(f\"\\n\\t Suma calculada usando np.sum(): {suma_sum_numpy}\")\n",
    "\n",
    "# ---------------------------------------------\n",
    "# Operación de reducción con numba\n",
    "# ---------------------------------------------\n",
    "@njit\n",
    "def sum_with_for(array):\n",
    "    total = 0\n",
    "    for i in array:\n",
    "        total += i\n",
    "    return total\n",
    "\n",
    "@njit\n",
    "def sum_with_numpy(array):\n",
    "    return np.sum(array)\n",
    "\n",
    "# a) Medir el tiempo para el bucle for con @njit\n",
    "initial_time = time.time()\n",
    "result_for = sum_with_for(my_array)\n",
    "final_time = time.time()\n",
    "print(\"Time taken by @njit with for loop:\", (final_time - initial_time), \"seconds\")\n",
    "print(f\"Result with for loop: {result_for}\")\n",
    "\n",
    "# b) Medir el tiempo para np.sum con @njit\n",
    "initial_time = time.time()\n",
    "result_numpy = sum_with_numpy(my_array)\n",
    "final_time = time.time()\n",
    "print(\"Time taken by @njit with numpy sum:\", (final_time - initial_time), \"seconds\")\n",
    "print(f\"Result with numpy sum: {result_numpy}\")"
   ]
  }
 ],
 "metadata": {
  "kernelspec": {
   "display_name": "Python 3",
   "language": "python",
   "name": "python3"
  },
  "language_info": {
   "codemirror_mode": {
    "name": "ipython",
    "version": 3
   },
   "file_extension": ".py",
   "mimetype": "text/x-python",
   "name": "python",
   "nbconvert_exporter": "python",
   "pygments_lexer": "ipython3",
   "version": "3.8.5"
  }
 },
 "nbformat": 4,
 "nbformat_minor": 5
}
